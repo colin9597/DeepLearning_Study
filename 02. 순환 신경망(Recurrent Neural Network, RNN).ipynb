{
 "cells": [
  {
   "cell_type": "markdown",
   "id": "c33bc949",
   "metadata": {},
   "source": [
    "# 2. 파이썬으로 RNN 구현하기"
   ]
  },
  {
   "cell_type": "markdown",
   "id": "e53d17f8",
   "metadata": {},
   "source": [
    "![RNN_구현하기](./data/RNN_구현하기.JPG)"
   ]
  },
  {
   "cell_type": "code",
   "execution_count": 1,
   "id": "29c367cd",
   "metadata": {},
   "outputs": [
    {
     "name": "stdout",
     "output_type": "stream",
     "text": [
      "[0. 0. 0. 0. 0. 0. 0. 0.]\n"
     ]
    }
   ],
   "source": [
    "import numpy as np\n",
    "\n",
    "timesteps = 10 # 시점의 수. NLP에서는 보통 문장의 길이가 된다.\n",
    "input_size = 4 # 입력의 차원. NLP에서는 보통 단어 벡터의 차원이 된다.\n",
    "hidden_size = 8 # 은닉 상태의 크기. 메모리 셀의 용량이다.\n",
    "\n",
    "# 입력에 해당되는 2D 텐서\n",
    "inputs = np.random.random((timesteps, input_size)) \n",
    "\n",
    "# 초기 은닉 상태는 0(벡터)로 초기화\n",
    "# 은닉 상태의 크기 hidden_size로 은닉 상태를 만듬.\n",
    "hidden_state_t = np.zeros((hidden_size,)) \n",
    "\n",
    "# 8의 크기를 가지는 은닉 상태. 현재는 초기 은닉 상태로 모든 차원이 0의 값을 가짐.\n",
    "print(hidden_state_t) "
   ]
  },
  {
   "cell_type": "code",
   "execution_count": 2,
   "id": "d833ebcb",
   "metadata": {},
   "outputs": [
    {
     "name": "stdout",
     "output_type": "stream",
     "text": [
      "(8, 4)\n",
      "(8, 8)\n",
      "(8,)\n"
     ]
    }
   ],
   "source": [
    "# (8, 4)크기의 2D 텐서 생성. 입력에 대한 가중치.\n",
    "Wx = np.random.random((hidden_size, input_size))\n",
    "\n",
    "# (8, 8)크기의 2D 텐서 생성. 은닉 상태에 대한 가중치.\n",
    "Wh = np.random.random((hidden_size, hidden_size))\n",
    "\n",
    "# (8,)크기의 1D 텐서 생성. 이 값은 편향(bias).\n",
    "b = np.random.random((hidden_size,)) \n",
    "\n",
    "# 가중치와 편향의 크기\n",
    "print(np.shape(Wx))\n",
    "print(np.shape(Wh))\n",
    "print(np.shape(b))"
   ]
  },
  {
   "cell_type": "markdown",
   "id": "8b1519f1",
   "metadata": {},
   "source": [
    "> Wx : (은닉 상태의 크기 x 입력의 차원)  \n",
    "> Wh : (은닉 상태의 크기 X 은닉 상태의 크기)  \n",
    ">  b : (은닉 상태의 크기)"
   ]
  },
  {
   "cell_type": "code",
   "execution_count": 3,
   "id": "77f8e54b",
   "metadata": {},
   "outputs": [
    {
     "name": "stdout",
     "output_type": "stream",
     "text": [
      "(1, 8)\n",
      "(2, 8)\n",
      "(3, 8)\n",
      "(4, 8)\n",
      "(5, 8)\n",
      "(6, 8)\n",
      "(7, 8)\n",
      "(8, 8)\n",
      "(9, 8)\n",
      "(10, 8)\n",
      "[[0.60132174 0.7984977  0.93468321 0.88631126 0.82048706 0.7370612\n",
      "  0.82975134 0.621055  ]\n",
      " [0.9997663  0.9995137  0.9999665  0.99940271 0.99995254 0.99589024\n",
      "  0.99974435 0.99926305]\n",
      " [0.99999687 0.9999937  0.99999923 0.99998845 0.99999686 0.99984977\n",
      "  0.99999588 0.99995552]\n",
      " [0.99999531 0.99999673 0.99999887 0.99999049 0.99999715 0.99987632\n",
      "  0.99999835 0.99994846]\n",
      " [0.99998604 0.9999815  0.9999983  0.99995221 0.99999691 0.99969271\n",
      "  0.99999491 0.9999171 ]\n",
      " [0.99999482 0.9999929  0.99999897 0.9999877  0.99999702 0.99983997\n",
      "  0.99999495 0.99993877]\n",
      " [0.99999172 0.99998132 0.99999665 0.99996146 0.99999528 0.99943952\n",
      "  0.99998912 0.9999206 ]\n",
      " [0.99998858 0.99997221 0.99999773 0.99995205 0.9999961  0.99952963\n",
      "  0.99998628 0.99990996]\n",
      " [0.99999574 0.99999016 0.99999803 0.99998251 0.99999569 0.99967275\n",
      "  0.99999174 0.99994075]\n",
      " [0.99999607 0.99999485 0.9999984  0.9999872  0.99999629 0.99978696\n",
      "  0.99999674 0.99994905]]\n"
     ]
    }
   ],
   "source": [
    "total_hidden_states = []\n",
    "\n",
    "# 메모리 셀 동작\n",
    "# 각 시점에 따라서 입력값이 입력됨.\n",
    "for input_t in inputs: \n",
    "    # Wx * Xt + Wh * Ht-1 + b(bias)\n",
    "    output_t = np.tanh(np.dot(Wx,input_t) + np.dot(Wh,hidden_state_t) + b) \n",
    "    # 각 시점의 은닉 상태의 값을 계속해서 축적\n",
    "    total_hidden_states.append(list(output_t)) \n",
    "    # 각 시점 t별 메모리 셀의 출력의 크기는 (timestep, output_dim)\n",
    "    print(np.shape(total_hidden_states)) \n",
    "    hidden_state_t = output_t\n",
    "\n",
    "# 출력 시 값을 깔끔하게 해준다.\n",
    "total_hidden_states = np.stack(total_hidden_states, axis = 0) \n",
    "\n",
    "\n",
    "# (timesteps, output_dim)의 크기. \n",
    "# 이 경우 (10, 8)의 크기를 가지는 메모리 셀의 2D 텐서를 출력.\n",
    "print(total_hidden_states)"
   ]
  },
  {
   "cell_type": "markdown",
   "id": "831d10cd",
   "metadata": {},
   "source": [
    "# 3. 파이토치의 nn.RNN()"
   ]
  },
  {
   "cell_type": "code",
   "execution_count": 4,
   "id": "74920ce4",
   "metadata": {},
   "outputs": [],
   "source": [
    "import torch\n",
    "import torch.nn as nn"
   ]
  },
  {
   "cell_type": "code",
   "execution_count": 5,
   "id": "2496dd88",
   "metadata": {},
   "outputs": [
    {
     "name": "stdout",
     "output_type": "stream",
     "text": [
      "torch.Size([1, 10, 8])\n",
      "torch.Size([1, 1, 8])\n"
     ]
    }
   ],
   "source": [
    "input_size = 5 # 입력의 크기\n",
    "hidden_size = 8 # 은닉 상태의 크기\n",
    "\n",
    "# (batch_size, time_steps, input_size)\n",
    "inputs = torch.Tensor(1, 10, 5)\n",
    "\n",
    "# batch_first=True : 입력 텐서의 첫번째 차원이 배치 크기임\n",
    "cell = nn.RNN(input_size, hidden_size, batch_first=True)\n",
    "\n",
    "# 입력 텐서를 RNN 셀에 입력하여 출력을 확인\n",
    "outputs, _status = cell(inputs)\n",
    "print(outputs.shape) # 모든 time-step의 hidden_state\n",
    "print(_status.shape) # 최종 time-step의 hidden_state"
   ]
  },
  {
   "cell_type": "markdown",
   "id": "67916078",
   "metadata": {},
   "source": [
    "> 입력 텐서 : (배치 크기 x 시점의 수 x 매 시점마다 들어가는 입력)"
   ]
  },
  {
   "cell_type": "markdown",
   "id": "8a65ccfd",
   "metadata": {},
   "source": [
    "# 4. 깊은 순환 신경망(Deep Recurrent Neural Network)"
   ]
  },
  {
   "cell_type": "code",
   "execution_count": 6,
   "id": "1dc78b01",
   "metadata": {},
   "outputs": [
    {
     "name": "stdout",
     "output_type": "stream",
     "text": [
      "torch.Size([1, 10, 8])\n",
      "torch.Size([2, 1, 8])\n"
     ]
    }
   ],
   "source": [
    "# (batch_size, time_steps, input_size)\n",
    "inputs = torch.Tensor(1, 10, 5)\n",
    "\n",
    "# num_layers에 값을 전달하여 층을 쌓음\n",
    "cell = nn.RNN(input_size = 5, hidden_size = 8, num_layers = 2, batch_first=True)\n",
    "\n",
    "# 입력 텐서를 RNN 셀에 입력하여 출력을 확인\n",
    "outputs, _status = cell(inputs)\n",
    "print(outputs.shape) # 모든 time-step의 hidden_state\n",
    "print(_status.shape) # (층의 개수, 배치 크기, 은닉 상태의 크기)\n"
   ]
  },
  {
   "cell_type": "markdown",
   "id": "6d3c4e46",
   "metadata": {},
   "source": [
    "# 5. 양방향 순환 신경망(Bidirectional Recurrent Neural Network)"
   ]
  },
  {
   "cell_type": "code",
   "execution_count": 7,
   "id": "30599cc9",
   "metadata": {
    "scrolled": true
   },
   "outputs": [
    {
     "name": "stdout",
     "output_type": "stream",
     "text": [
      "torch.Size([1, 10, 16])\n",
      "torch.Size([4, 1, 8])\n"
     ]
    }
   ],
   "source": [
    "# (batch_size, time_steps, input_size)\n",
    "inputs = torch.Tensor(1, 10, 5)\n",
    "\n",
    "# bidirectional에 값을 True : 양방향 순환 신경망\n",
    "cell = nn.RNN(input_size = 5, hidden_size = 8, num_layers = 2, batch_first=True, bidirectional = True)\n",
    "\n",
    "# 입력 텐서를 RNN 셀에 입력하여 출력을 확인\n",
    "outputs, _status = cell(inputs)\n",
    "print(outputs.shape) # (배치 크기, 시퀀스 길이, 은닉 상태의 크기 x 2)\n",
    "print(_status.shape) # (층의 개수 x 2, 배치 크기, 은닉 상태의 크기)"
   ]
  },
  {
   "cell_type": "markdown",
   "id": "c28ac803",
   "metadata": {},
   "source": [
    "# 6. 장단기 메모리(Long Short-Term Memory, LSTM)"
   ]
  },
  {
   "cell_type": "code",
   "execution_count": 8,
   "id": "a2774d00",
   "metadata": {},
   "outputs": [],
   "source": [
    "input_dim = 5\n",
    "hidden_size = 8"
   ]
  },
  {
   "cell_type": "markdown",
   "id": "0af52542",
   "metadata": {},
   "source": [
    "- 기존의 RNN 셀"
   ]
  },
  {
   "cell_type": "code",
   "execution_count": 9,
   "id": "f0440eee",
   "metadata": {},
   "outputs": [
    {
     "data": {
      "text/plain": [
       "RNN(5, 8, batch_first=True)"
      ]
     },
     "execution_count": 9,
     "metadata": {},
     "output_type": "execute_result"
    }
   ],
   "source": [
    "nn.RNN(input_dim, hidden_size, batch_first=True)"
   ]
  },
  {
   "cell_type": "markdown",
   "id": "f8dea752",
   "metadata": {},
   "source": [
    "- LSTM 셀"
   ]
  },
  {
   "cell_type": "code",
   "execution_count": 10,
   "id": "3770d811",
   "metadata": {},
   "outputs": [
    {
     "data": {
      "text/plain": [
       "LSTM(5, 8, batch_first=True)"
      ]
     },
     "execution_count": 10,
     "metadata": {},
     "output_type": "execute_result"
    }
   ],
   "source": [
    "nn.LSTM(input_dim, hidden_size, batch_first=True) "
   ]
  }
 ],
 "metadata": {
  "kernelspec": {
   "display_name": "DH",
   "language": "python",
   "name": "dh"
  },
  "language_info": {
   "codemirror_mode": {
    "name": "ipython",
    "version": 3
   },
   "file_extension": ".py",
   "mimetype": "text/x-python",
   "name": "python",
   "nbconvert_exporter": "python",
   "pygments_lexer": "ipython3",
   "version": "3.8.8"
  }
 },
 "nbformat": 4,
 "nbformat_minor": 5
}
